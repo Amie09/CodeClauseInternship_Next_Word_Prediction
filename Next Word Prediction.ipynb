{
 "cells": [
  {
   "cell_type": "markdown",
   "metadata": {},
   "source": [
    "# **Next Word Prediction**"
   ]
  },
  {
   "cell_type": "code",
   "execution_count": 2,
   "metadata": {
    "_cell_guid": "b1076dfc-b9ad-4769-8c92-a6c4dae69d19",
    "_uuid": "8f2839f25d086af736a60e9eeb907d3b93b6e0e5",
    "execution": {
     "iopub.execute_input": "2023-10-01T10:20:28.144699Z",
     "iopub.status.busy": "2023-10-01T10:20:28.144354Z",
     "iopub.status.idle": "2023-10-01T10:20:28.155626Z",
     "shell.execute_reply": "2023-10-01T10:20:28.154459Z",
     "shell.execute_reply.started": "2023-10-01T10:20:28.144664Z"
    }
   },
   "outputs": [],
   "source": [
    "import pandas as pd\n",
    "import os\n",
    "import numpy as np\n",
    "\n",
    "import tensorflow as tf\n",
    "from tensorflow.keras.preprocessing.sequence import pad_sequences\n",
    "from tensorflow.keras.layers import Embedding, LSTM, Dense, Bidirectional\n",
    "from tensorflow.keras.preprocessing.text import Tokenizer\n",
    "from tensorflow.keras.models import Sequential\n",
    "from tensorflow.keras.optimizers import Adam"
   ]
  },
  {
   "cell_type": "markdown",
   "metadata": {},
   "source": [
    "## Data Preparation"
   ]
  },
  {
   "cell_type": "markdown",
   "metadata": {},
   "source": [
    "### Import Dataset"
   ]
  },
  {
   "cell_type": "code",
   "execution_count": 3,
   "metadata": {
    "execution": {
     "iopub.execute_input": "2023-10-01T10:21:30.259752Z",
     "iopub.status.busy": "2023-10-01T10:21:30.259401Z",
     "iopub.status.idle": "2023-10-01T10:21:30.348504Z",
     "shell.execute_reply": "2023-10-01T10:21:30.347595Z",
     "shell.execute_reply.started": "2023-10-01T10:21:30.259720Z"
    }
   },
   "outputs": [
    {
     "data": {
      "text/html": [
       "<div>\n",
       "<style scoped>\n",
       "    .dataframe tbody tr th:only-of-type {\n",
       "        vertical-align: middle;\n",
       "    }\n",
       "\n",
       "    .dataframe tbody tr th {\n",
       "        vertical-align: top;\n",
       "    }\n",
       "\n",
       "    .dataframe thead th {\n",
       "        text-align: right;\n",
       "    }\n",
       "</style>\n",
       "<table border=\"1\" class=\"dataframe\">\n",
       "  <thead>\n",
       "    <tr style=\"text-align: right;\">\n",
       "      <th></th>\n",
       "      <th>id</th>\n",
       "      <th>url</th>\n",
       "      <th>title</th>\n",
       "      <th>subtitle</th>\n",
       "      <th>image</th>\n",
       "      <th>claps</th>\n",
       "      <th>responses</th>\n",
       "      <th>reading_time</th>\n",
       "      <th>publication</th>\n",
       "      <th>date</th>\n",
       "    </tr>\n",
       "  </thead>\n",
       "  <tbody>\n",
       "    <tr>\n",
       "      <th>0</th>\n",
       "      <td>1</td>\n",
       "      <td>https://towardsdatascience.com/a-beginners-gui...</td>\n",
       "      <td>A Beginner’s Guide to Word Embedding with Gens...</td>\n",
       "      <td>NaN</td>\n",
       "      <td>1.png</td>\n",
       "      <td>850</td>\n",
       "      <td>8</td>\n",
       "      <td>8</td>\n",
       "      <td>Towards Data Science</td>\n",
       "      <td>2019-05-30</td>\n",
       "    </tr>\n",
       "    <tr>\n",
       "      <th>1</th>\n",
       "      <td>2</td>\n",
       "      <td>https://towardsdatascience.com/hands-on-graph-...</td>\n",
       "      <td>Hands-on Graph Neural Networks with PyTorch &amp; ...</td>\n",
       "      <td>NaN</td>\n",
       "      <td>2.png</td>\n",
       "      <td>1100</td>\n",
       "      <td>11</td>\n",
       "      <td>9</td>\n",
       "      <td>Towards Data Science</td>\n",
       "      <td>2019-05-30</td>\n",
       "    </tr>\n",
       "    <tr>\n",
       "      <th>2</th>\n",
       "      <td>3</td>\n",
       "      <td>https://towardsdatascience.com/how-to-use-ggpl...</td>\n",
       "      <td>How to Use ggplot2 in Python</td>\n",
       "      <td>A Grammar of Graphics for Python</td>\n",
       "      <td>3.png</td>\n",
       "      <td>767</td>\n",
       "      <td>1</td>\n",
       "      <td>5</td>\n",
       "      <td>Towards Data Science</td>\n",
       "      <td>2019-05-30</td>\n",
       "    </tr>\n",
       "    <tr>\n",
       "      <th>3</th>\n",
       "      <td>4</td>\n",
       "      <td>https://towardsdatascience.com/databricks-how-...</td>\n",
       "      <td>Databricks: How to Save Files in CSV on Your L...</td>\n",
       "      <td>When I work on Python projects dealing…</td>\n",
       "      <td>4.jpeg</td>\n",
       "      <td>354</td>\n",
       "      <td>0</td>\n",
       "      <td>4</td>\n",
       "      <td>Towards Data Science</td>\n",
       "      <td>2019-05-30</td>\n",
       "    </tr>\n",
       "    <tr>\n",
       "      <th>4</th>\n",
       "      <td>5</td>\n",
       "      <td>https://towardsdatascience.com/a-step-by-step-...</td>\n",
       "      <td>A Step-by-Step Implementation of Gradient Desc...</td>\n",
       "      <td>One example of building neural…</td>\n",
       "      <td>5.jpeg</td>\n",
       "      <td>211</td>\n",
       "      <td>3</td>\n",
       "      <td>4</td>\n",
       "      <td>Towards Data Science</td>\n",
       "      <td>2019-05-30</td>\n",
       "    </tr>\n",
       "  </tbody>\n",
       "</table>\n",
       "</div>"
      ],
      "text/plain": [
       "   id                                                url  \\\n",
       "0   1  https://towardsdatascience.com/a-beginners-gui...   \n",
       "1   2  https://towardsdatascience.com/hands-on-graph-...   \n",
       "2   3  https://towardsdatascience.com/how-to-use-ggpl...   \n",
       "3   4  https://towardsdatascience.com/databricks-how-...   \n",
       "4   5  https://towardsdatascience.com/a-step-by-step-...   \n",
       "\n",
       "                                               title  \\\n",
       "0  A Beginner’s Guide to Word Embedding with Gens...   \n",
       "1  Hands-on Graph Neural Networks with PyTorch & ...   \n",
       "2                       How to Use ggplot2 in Python   \n",
       "3  Databricks: How to Save Files in CSV on Your L...   \n",
       "4  A Step-by-Step Implementation of Gradient Desc...   \n",
       "\n",
       "                                  subtitle   image  claps responses  \\\n",
       "0                                      NaN   1.png    850         8   \n",
       "1                                      NaN   2.png   1100        11   \n",
       "2         A Grammar of Graphics for Python   3.png    767         1   \n",
       "3  When I work on Python projects dealing…  4.jpeg    354         0   \n",
       "4          One example of building neural…  5.jpeg    211         3   \n",
       "\n",
       "   reading_time           publication        date  \n",
       "0             8  Towards Data Science  2019-05-30  \n",
       "1             9  Towards Data Science  2019-05-30  \n",
       "2             5  Towards Data Science  2019-05-30  \n",
       "3             4  Towards Data Science  2019-05-30  \n",
       "4             4  Towards Data Science  2019-05-30  "
      ]
     },
     "execution_count": 3,
     "metadata": {},
     "output_type": "execute_result"
    }
   ],
   "source": [
    "medium_data = pd.read_csv('../input/medium-articles-dataset/medium_data.csv')\n",
    "medium_data.head()"
   ]
  },
  {
   "cell_type": "markdown",
   "metadata": {},
   "source": [
    "Here, we have a **10 different fields and 6508 records** but we will only use **title field** for predicting next word. "
   ]
  },
  {
   "cell_type": "code",
   "execution_count": 4,
   "metadata": {
    "execution": {
     "iopub.execute_input": "2023-10-01T10:21:40.575126Z",
     "iopub.status.busy": "2023-10-01T10:21:40.573555Z",
     "iopub.status.idle": "2023-10-01T10:21:40.583677Z",
     "shell.execute_reply": "2023-10-01T10:21:40.582138Z",
     "shell.execute_reply.started": "2023-10-01T10:21:40.575087Z"
    }
   },
   "outputs": [
    {
     "name": "stdout",
     "output_type": "stream",
     "text": [
      "Number of records:  6508\n",
      "Number of fields:  10\n"
     ]
    }
   ],
   "source": [
    "print(\"Number of records: \", medium_data.shape[0])\n",
    "print(\"Number of fields: \", medium_data.shape[1])"
   ]
  },
  {
   "cell_type": "markdown",
   "metadata": {},
   "source": [
    "### Diplay Titles"
   ]
  },
  {
   "cell_type": "code",
   "execution_count": 5,
   "metadata": {
    "execution": {
     "iopub.execute_input": "2023-10-01T10:22:03.637453Z",
     "iopub.status.busy": "2023-10-01T10:22:03.637139Z",
     "iopub.status.idle": "2023-10-01T10:22:03.646474Z",
     "shell.execute_reply": "2023-10-01T10:22:03.645653Z",
     "shell.execute_reply.started": "2023-10-01T10:22:03.637422Z"
    }
   },
   "outputs": [
    {
     "data": {
      "text/plain": [
       "0       A Beginner’s Guide to Word Embedding with Gens...\n",
       "1       Hands-on Graph Neural Networks with PyTorch & ...\n",
       "2                            How to Use ggplot2 in Python\n",
       "3       Databricks: How to Save Files in CSV on Your L...\n",
       "4       A Step-by-Step Implementation of Gradient Desc...\n",
       "                              ...                        \n",
       "6503    “We” vs “I” — How Should You Talk About Yourse...\n",
       "6504                     How Donald Trump Markets Himself\n",
       "6505        Content and Marketing Beyond Mass Consumption\n",
       "6506    5 Questions All Copywriters Should Ask Clients...\n",
       "6507               How To Write a Good Business Blog Post\n",
       "Name: title, Length: 6508, dtype: object"
      ]
     },
     "execution_count": 5,
     "metadata": {},
     "output_type": "execute_result"
    }
   ],
   "source": [
    "medium_data['title']"
   ]
  },
  {
   "cell_type": "markdown",
   "metadata": {},
   "source": [
    "### Removing unwanted characters and words in titles"
   ]
  },
  {
   "cell_type": "code",
   "execution_count": 6,
   "metadata": {
    "execution": {
     "iopub.execute_input": "2023-10-01T10:22:06.683019Z",
     "iopub.status.busy": "2023-10-01T10:22:06.682696Z",
     "iopub.status.idle": "2023-10-01T10:22:06.693235Z",
     "shell.execute_reply": "2023-10-01T10:22:06.692412Z",
     "shell.execute_reply.started": "2023-10-01T10:22:06.682982Z"
    }
   },
   "outputs": [],
   "source": [
    "medium_data['title'] = medium_data['title'].apply(lambda x: x.replace(u'\\xa0',u' '))\n",
    "medium_data['title'] = medium_data['title'].apply(lambda x: x.replace('\\u200a',' '))"
   ]
  },
  {
   "cell_type": "markdown",
   "metadata": {},
   "source": [
    "### Tokenzation"
   ]
  },
  {
   "cell_type": "code",
   "execution_count": 7,
   "metadata": {
    "execution": {
     "iopub.execute_input": "2023-10-01T10:22:15.543153Z",
     "iopub.status.busy": "2023-10-01T10:22:15.542834Z",
     "iopub.status.idle": "2023-10-01T10:22:15.640105Z",
     "shell.execute_reply": "2023-10-01T10:22:15.639233Z",
     "shell.execute_reply.started": "2023-10-01T10:22:15.543121Z"
    }
   },
   "outputs": [
    {
     "name": "stdout",
     "output_type": "stream",
     "text": [
      "Total number of words:  8238\n",
      "Word: ID\n",
      "------------\n",
      "<oov>:  1\n",
      "Strong:  4\n",
      "And:  8\n",
      "Consumption:  8237\n"
     ]
    }
   ],
   "source": [
    "tokenizer = Tokenizer(oov_token='<oov>') \n",
    "tokenizer.fit_on_texts(medium_data['title'])\n",
    "total_words = len(tokenizer.word_index) + 1\n",
    "\n",
    "print(\"Total number of words: \", total_words)\n",
    "print(\"Word: ID\")\n",
    "print(\"------------\")\n",
    "print(\"<oov>: \", tokenizer.word_index['<oov>'])\n",
    "print(\"Strong: \", tokenizer.word_index['strong'])\n",
    "print(\"And: \", tokenizer.word_index['and'])\n",
    "print(\"Consumption: \", tokenizer.word_index['consumption'])"
   ]
  },
  {
   "cell_type": "markdown",
   "metadata": {},
   "source": [
    "### Converting title text into sequences and makeing n_gram model"
   ]
  },
  {
   "cell_type": "code",
   "execution_count": 8,
   "metadata": {
    "execution": {
     "iopub.execute_input": "2023-10-01T10:22:23.656606Z",
     "iopub.status.busy": "2023-10-01T10:22:23.656260Z",
     "iopub.status.idle": "2023-10-01T10:22:23.901826Z",
     "shell.execute_reply": "2023-10-01T10:22:23.900835Z",
     "shell.execute_reply.started": "2023-10-01T10:22:23.656568Z"
    }
   },
   "outputs": [
    {
     "name": "stdout",
     "output_type": "stream",
     "text": [
      "Total input sequences:  48461\n"
     ]
    }
   ],
   "source": [
    "input_sequences = []\n",
    "for line in medium_data['title']:\n",
    "    token_list = tokenizer.texts_to_sequences([line])[0]\n",
    "    #print(token_list)\n",
    "    \n",
    "    for i in range(1, len(token_list)):\n",
    "        n_gram_sequence = token_list[:i+1]\n",
    "        input_sequences.append(n_gram_sequence)\n",
    "\n",
    "# print(input_sequences)\n",
    "print(\"Total input sequences: \", len(input_sequences))"
   ]
  },
  {
   "cell_type": "markdown",
   "metadata": {},
   "source": [
    "#### Making all titles with same length by using padding\n"
   ]
  },
  {
   "cell_type": "code",
   "execution_count": 9,
   "metadata": {
    "execution": {
     "iopub.execute_input": "2023-10-01T10:22:27.572526Z",
     "iopub.status.busy": "2023-10-01T10:22:27.572181Z",
     "iopub.status.idle": "2023-10-01T10:22:27.768370Z",
     "shell.execute_reply": "2023-10-01T10:22:27.767365Z",
     "shell.execute_reply.started": "2023-10-01T10:22:27.572492Z"
    }
   },
   "outputs": [
    {
     "data": {
      "text/plain": [
       "array([  0,   0,   0,   0,   0,   0,   0,   0,   0,   0,   0,   0,   0,\n",
       "         0,   0,   0,   0,   0,   0,   0,   0,   0,   0,   0,   0,   0,\n",
       "         0,   0,   0,   0,   0,   0,   0,   0,   0,   0,   0,   5, 676,\n",
       "        68], dtype=int32)"
      ]
     },
     "execution_count": 9,
     "metadata": {},
     "output_type": "execute_result"
    }
   ],
   "source": [
    "# pad sequences \n",
    "max_sequence_len = max([len(x) for x in input_sequences])\n",
    "input_sequences = np.array(pad_sequences(input_sequences, maxlen=max_sequence_len, padding='pre'))\n",
    "input_sequences[1]"
   ]
  },
  {
   "cell_type": "markdown",
   "metadata": {},
   "source": [
    "### Prepare features and labels"
   ]
  },
  {
   "cell_type": "code",
   "execution_count": 10,
   "metadata": {
    "execution": {
     "iopub.execute_input": "2023-10-01T10:22:30.993282Z",
     "iopub.status.busy": "2023-10-01T10:22:30.992983Z",
     "iopub.status.idle": "2023-10-01T10:22:31.130426Z",
     "shell.execute_reply": "2023-10-01T10:22:31.129597Z",
     "shell.execute_reply.started": "2023-10-01T10:22:30.993252Z"
    }
   },
   "outputs": [],
   "source": [
    "# create features and label\n",
    "xs, labels = input_sequences[:,:-1],input_sequences[:,-1]\n",
    "ys = tf.keras.utils.to_categorical(labels, num_classes=total_words)"
   ]
  },
  {
   "cell_type": "code",
   "execution_count": 11,
   "metadata": {
    "execution": {
     "iopub.execute_input": "2023-10-01T10:22:33.067167Z",
     "iopub.status.busy": "2023-10-01T10:22:33.066857Z",
     "iopub.status.idle": "2023-10-01T10:22:33.072423Z",
     "shell.execute_reply": "2023-10-01T10:22:33.071388Z",
     "shell.execute_reply.started": "2023-10-01T10:22:33.067136Z"
    }
   },
   "outputs": [
    {
     "name": "stdout",
     "output_type": "stream",
     "text": [
      "[   0    0    0    0    0    0    0    0    0    0    0    0    0    0\n",
      "    0    0    0    0    0    0    0    0    0    0    0    0    0    0\n",
      "    0    0    0    0    0    5  676   68    2  452 1518]\n",
      "14\n",
      "1.0\n"
     ]
    }
   ],
   "source": [
    "print(xs[5])\n",
    "print(labels[5])\n",
    "print(ys[5][14])"
   ]
  },
  {
   "cell_type": "markdown",
   "metadata": {},
   "source": [
    "## Bi- LSTM Neural Network Model training"
   ]
  },
  {
   "cell_type": "code",
   "execution_count": 12,
   "metadata": {
    "execution": {
     "iopub.execute_input": "2023-10-01T10:22:37.639332Z",
     "iopub.status.busy": "2023-10-01T10:22:37.639024Z",
     "iopub.status.idle": "2023-10-01T10:42:38.225745Z",
     "shell.execute_reply": "2023-10-01T10:42:38.224770Z",
     "shell.execute_reply.started": "2023-10-01T10:22:37.639303Z"
    }
   },
   "outputs": [
    {
     "name": "stdout",
     "output_type": "stream",
     "text": [
      "Epoch 1/50\n",
      "1515/1515 [==============================] - 34s 16ms/step - loss: 7.0989 - accuracy: 0.0898\n",
      "Epoch 2/50\n",
      "1515/1515 [==============================] - 24s 16ms/step - loss: 5.6513 - accuracy: 0.1833\n",
      "Epoch 3/50\n",
      "1515/1515 [==============================] - 24s 16ms/step - loss: 4.7571 - accuracy: 0.2185\n",
      "Epoch 4/50\n",
      "1515/1515 [==============================] - 25s 17ms/step - loss: 3.9885 - accuracy: 0.2709\n",
      "Epoch 5/50\n",
      "1515/1515 [==============================] - 24s 16ms/step - loss: 3.3962 - accuracy: 0.3316\n",
      "Epoch 6/50\n",
      "1515/1515 [==============================] - 23s 15ms/step - loss: 3.0082 - accuracy: 0.3769\n",
      "Epoch 7/50\n",
      "1515/1515 [==============================] - 24s 16ms/step - loss: 2.7809 - accuracy: 0.4118\n",
      "Epoch 8/50\n",
      "1515/1515 [==============================] - 24s 16ms/step - loss: 2.5891 - accuracy: 0.4361\n",
      "Epoch 9/50\n",
      "1515/1515 [==============================] - 24s 16ms/step - loss: 2.4776 - accuracy: 0.4536\n",
      "Epoch 10/50\n",
      "1515/1515 [==============================] - 23s 15ms/step - loss: 2.3721 - accuracy: 0.4742\n",
      "Epoch 11/50\n",
      "1515/1515 [==============================] - 24s 16ms/step - loss: 2.2840 - accuracy: 0.4811\n",
      "Epoch 12/50\n",
      "1515/1515 [==============================] - 24s 16ms/step - loss: 2.2540 - accuracy: 0.4951\n",
      "Epoch 13/50\n",
      "1515/1515 [==============================] - 24s 16ms/step - loss: 2.1681 - accuracy: 0.5061\n",
      "Epoch 14/50\n",
      "1515/1515 [==============================] - 23s 15ms/step - loss: 2.1423 - accuracy: 0.5130\n",
      "Epoch 15/50\n",
      "1515/1515 [==============================] - 24s 16ms/step - loss: 2.1279 - accuracy: 0.5119\n",
      "Epoch 16/50\n",
      "1515/1515 [==============================] - 24s 16ms/step - loss: 2.0698 - accuracy: 0.5233\n",
      "Epoch 17/50\n",
      "1515/1515 [==============================] - 23s 15ms/step - loss: 2.0824 - accuracy: 0.5194\n",
      "Epoch 18/50\n",
      "1515/1515 [==============================] - 24s 16ms/step - loss: 2.0269 - accuracy: 0.5310\n",
      "Epoch 19/50\n",
      "1515/1515 [==============================] - 24s 16ms/step - loss: 2.0300 - accuracy: 0.5308\n",
      "Epoch 20/50\n",
      "1515/1515 [==============================] - 24s 16ms/step - loss: 2.0190 - accuracy: 0.5307\n",
      "Epoch 21/50\n",
      "1515/1515 [==============================] - 23s 15ms/step - loss: 1.9972 - accuracy: 0.5389\n",
      "Epoch 22/50\n",
      "1515/1515 [==============================] - 24s 16ms/step - loss: 1.9825 - accuracy: 0.5389\n",
      "Epoch 23/50\n",
      "1515/1515 [==============================] - 24s 16ms/step - loss: 1.9519 - accuracy: 0.5482\n",
      "Epoch 24/50\n",
      "1515/1515 [==============================] - 24s 16ms/step - loss: 1.9535 - accuracy: 0.5450\n",
      "Epoch 25/50\n",
      "1515/1515 [==============================] - 23s 15ms/step - loss: 1.9553 - accuracy: 0.5469\n",
      "Epoch 26/50\n",
      "1515/1515 [==============================] - 24s 16ms/step - loss: 1.9597 - accuracy: 0.5471\n",
      "Epoch 27/50\n",
      "1515/1515 [==============================] - 24s 16ms/step - loss: 1.9345 - accuracy: 0.5499\n",
      "Epoch 28/50\n",
      "1515/1515 [==============================] - 24s 16ms/step - loss: 1.9175 - accuracy: 0.5501\n",
      "Epoch 29/50\n",
      "1515/1515 [==============================] - 23s 15ms/step - loss: 1.9460 - accuracy: 0.5492\n",
      "Epoch 30/50\n",
      "1515/1515 [==============================] - 24s 16ms/step - loss: 1.9360 - accuracy: 0.5467\n",
      "Epoch 31/50\n",
      "1515/1515 [==============================] - 24s 16ms/step - loss: 1.9705 - accuracy: 0.5497\n",
      "Epoch 32/50\n",
      "1515/1515 [==============================] - 24s 16ms/step - loss: 1.9034 - accuracy: 0.5575\n",
      "Epoch 33/50\n",
      "1515/1515 [==============================] - 23s 15ms/step - loss: 1.9283 - accuracy: 0.5512\n",
      "Epoch 34/50\n",
      "1515/1515 [==============================] - 24s 16ms/step - loss: 1.9063 - accuracy: 0.5554\n",
      "Epoch 35/50\n",
      "1515/1515 [==============================] - 24s 16ms/step - loss: 1.8880 - accuracy: 0.5621\n",
      "Epoch 36/50\n",
      "1515/1515 [==============================] - 24s 16ms/step - loss: 1.9139 - accuracy: 0.5567\n",
      "Epoch 37/50\n",
      "1515/1515 [==============================] - 23s 15ms/step - loss: 1.9159 - accuracy: 0.5578\n",
      "Epoch 38/50\n",
      "1515/1515 [==============================] - 24s 16ms/step - loss: 1.9001 - accuracy: 0.5620\n",
      "Epoch 39/50\n",
      "1515/1515 [==============================] - 24s 16ms/step - loss: 1.8869 - accuracy: 0.5631\n",
      "Epoch 40/50\n",
      "1515/1515 [==============================] - 24s 16ms/step - loss: 1.8997 - accuracy: 0.5593\n",
      "Epoch 41/50\n",
      "1515/1515 [==============================] - 23s 15ms/step - loss: 1.8638 - accuracy: 0.5673\n",
      "Epoch 42/50\n",
      "1515/1515 [==============================] - 24s 16ms/step - loss: 1.8567 - accuracy: 0.5682\n",
      "Epoch 43/50\n",
      "1515/1515 [==============================] - 24s 16ms/step - loss: 1.8420 - accuracy: 0.5706\n",
      "Epoch 44/50\n",
      "1515/1515 [==============================] - 24s 16ms/step - loss: 1.8587 - accuracy: 0.5693\n",
      "Epoch 45/50\n",
      "1515/1515 [==============================] - 23s 15ms/step - loss: 1.8198 - accuracy: 0.5763\n",
      "Epoch 46/50\n",
      "1515/1515 [==============================] - 24s 16ms/step - loss: 1.8305 - accuracy: 0.5753\n",
      "Epoch 47/50\n",
      "1515/1515 [==============================] - 24s 16ms/step - loss: 1.8300 - accuracy: 0.5736\n",
      "Epoch 48/50\n",
      "1515/1515 [==============================] - 24s 16ms/step - loss: 1.8136 - accuracy: 0.5737\n",
      "Epoch 49/50\n",
      "1515/1515 [==============================] - 24s 16ms/step - loss: 1.8142 - accuracy: 0.5799\n",
      "Epoch 50/50\n",
      "1515/1515 [==============================] - 24s 16ms/step - loss: 1.8108 - accuracy: 0.5784\n",
      "<tensorflow.python.keras.engine.sequential.Sequential object at 0x7a5177edea90>\n"
     ]
    }
   ],
   "source": [
    "model = Sequential()\n",
    "model.add(Embedding(total_words, 100, input_length=max_sequence_len-1))\n",
    "model.add(Bidirectional(LSTM(150)))\n",
    "model.add(Dense(total_words, activation='softmax'))\n",
    "adam = Adam(lr=0.01)\n",
    "model.compile(loss='categorical_crossentropy', optimizer=adam, metrics=['accuracy'])\n",
    "history = model.fit(xs, ys, epochs=50, verbose=1)\n",
    "#print model.summary()\n",
    "print(model)\n"
   ]
  },
  {
   "cell_type": "markdown",
   "metadata": {},
   "source": [
    "## Data Visualization"
   ]
  },
  {
   "cell_type": "markdown",
   "metadata": {},
   "source": [
    "### Plotting model accuracy and loss"
   ]
  },
  {
   "cell_type": "code",
   "execution_count": 16,
   "metadata": {
    "execution": {
     "iopub.execute_input": "2023-10-01T10:42:55.649389Z",
     "iopub.status.busy": "2023-10-01T10:42:55.649076Z",
     "iopub.status.idle": "2023-10-01T10:42:55.654079Z",
     "shell.execute_reply": "2023-10-01T10:42:55.653257Z",
     "shell.execute_reply.started": "2023-10-01T10:42:55.649357Z"
    }
   },
   "outputs": [],
   "source": [
    "import matplotlib.pyplot as plt\n",
    "\n",
    "\n",
    "def plot_graphs(history, string):\n",
    "    plt.plot(history.history[string])\n",
    "    plt.xlabel(\"Epochs\")\n",
    "    plt.ylabel(string)\n",
    "    plt.show()"
   ]
  },
  {
   "cell_type": "code",
   "execution_count": 17,
   "metadata": {
    "execution": {
     "iopub.execute_input": "2023-10-01T10:42:58.438392Z",
     "iopub.status.busy": "2023-10-01T10:42:58.437982Z",
     "iopub.status.idle": "2023-10-01T10:42:58.555434Z",
     "shell.execute_reply": "2023-10-01T10:42:58.554644Z",
     "shell.execute_reply.started": "2023-10-01T10:42:58.438350Z"
    }
   },
   "outputs": [
    {
     "data": {
      "image/png": "[encoded data removed]",
      "text/plain": [
       "<Figure size 432x288 with 1 Axes>"
      ]
     },
     "metadata": {
      "needs_background": "light"
     },
     "output_type": "display_data"
    }
   ],
   "source": [
    "plot_graphs(history, 'accuracy')"
   ]
  },
  {
   "cell_type": "code",
   "execution_count": 18,
   "metadata": {
    "execution": {
     "iopub.execute_input": "2023-10-01T10:43:00.514279Z",
     "iopub.status.busy": "2023-10-01T10:43:00.513878Z",
     "iopub.status.idle": "2023-10-01T10:43:00.613261Z",
     "shell.execute_reply": "2023-10-01T10:43:00.612358Z",
     "shell.execute_reply.started": "2023-10-01T10:43:00.514235Z"
    }
   },
   "outputs": [
    {
     "data": {
      "image/png": "[encoded data removed]",
      "text/plain": [
       "<Figure size 432x288 with 1 Axes>"
      ]
     },
     "metadata": {
      "needs_background": "light"
     },
     "output_type": "display_data"
    }
   ],
   "source": [
    "plot_graphs(history, 'loss')"
   ]
  },
  {
   "cell_type": "markdown",
   "metadata": {},
   "source": [
    "## Predicting next word of title"
   ]
  },
  {
   "cell_type": "code",
   "execution_count": 25,
   "metadata": {
    "execution": {
     "iopub.execute_input": "2023-10-01T10:47:58.630763Z",
     "iopub.status.busy": "2023-10-01T10:47:58.630407Z",
     "iopub.status.idle": "2023-10-01T10:47:58.707370Z",
     "shell.execute_reply": "2023-10-01T10:47:58.706439Z",
     "shell.execute_reply.started": "2023-10-01T10:47:58.630731Z"
    }
   },
   "outputs": [
    {
     "name": "stdout",
     "output_type": "stream",
     "text": [
      "implementation of   rnn lstm\n"
     ]
    }
   ],
   "source": [
    "for _ in range(next_words):\n",
    "    token_list = tokenizer.texts_to_sequences([seed_text])[0]\n",
    "    token_list = pad_sequences([token_list], maxlen=max_sequence_len-1, padding='pre')\n",
    "#     predicted = model.predict_classes(token_list, verbose=0)\n",
    "    predicted=model.predict(token_list) \n",
    "    predicted=np.argmax(predicted,axis=1)\n",
    "    output_word = \"\"\n",
    "    for word, index in tokenizer.word_index.items():\n",
    "        if index == predicted:\n",
    "            output_word = word\n",
    "            break\n",
    "    seed_text += \" \" + output_word\n",
    "print(seed_text)"
   ]
  }
 ],
 "metadata": {
  "kernelspec": {
   "display_name": "Python 3 (ipykernel)",
   "language": "python",
   "name": "python3"
  },
  "language_info": {
   "codemirror_mode": {
    "name": "ipython",
    "version": 3
   },
   "file_extension": ".py",
   "mimetype": "text/x-python",
   "name": "python",
   "nbconvert_exporter": "python",
   "pygments_lexer": "ipython3",
   "version": "3.11.4"
  }
 },
 "nbformat": 4,
 "nbformat_minor": 4
}
